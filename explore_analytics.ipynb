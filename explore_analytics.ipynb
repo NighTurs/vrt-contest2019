{
 "cells": [
  {
   "cell_type": "code",
   "execution_count": 36,
   "metadata": {},
   "outputs": [],
   "source": [
    "import pandas as pd"
   ]
  },
  {
   "cell_type": "code",
   "execution_count": 37,
   "metadata": {},
   "outputs": [],
   "source": [
    "df = pd.read_csv('analytics.csv', names=['idx', 'd', 'p', 'profit', 'expense', 'baseCt', 'returnCost'])"
   ]
  },
  {
   "cell_type": "code",
   "execution_count": 38,
   "metadata": {},
   "outputs": [
    {
     "data": {
      "text/plain": [
       "(121188, 7)"
      ]
     },
     "execution_count": 38,
     "metadata": {},
     "output_type": "execute_result"
    }
   ],
   "source": [
    "df.shape"
   ]
  },
  {
   "cell_type": "code",
   "execution_count": 39,
   "metadata": {},
   "outputs": [
    {
     "data": {
      "text/html": [
       "<div>\n",
       "<style scoped>\n",
       "    .dataframe tbody tr th:only-of-type {\n",
       "        vertical-align: middle;\n",
       "    }\n",
       "\n",
       "    .dataframe tbody tr th {\n",
       "        vertical-align: top;\n",
       "    }\n",
       "\n",
       "    .dataframe thead th {\n",
       "        text-align: right;\n",
       "    }\n",
       "</style>\n",
       "<table border=\"1\" class=\"dataframe\">\n",
       "  <thead>\n",
       "    <tr style=\"text-align: right;\">\n",
       "      <th></th>\n",
       "      <th>idx</th>\n",
       "      <th>d</th>\n",
       "      <th>p</th>\n",
       "      <th>profit</th>\n",
       "      <th>expense</th>\n",
       "      <th>baseCt</th>\n",
       "      <th>returnCost</th>\n",
       "    </tr>\n",
       "  </thead>\n",
       "  <tbody>\n",
       "    <tr>\n",
       "      <th>0</th>\n",
       "      <td>1</td>\n",
       "      <td>29</td>\n",
       "      <td>4</td>\n",
       "      <td>1044</td>\n",
       "      <td>216</td>\n",
       "      <td>19</td>\n",
       "      <td>88</td>\n",
       "    </tr>\n",
       "    <tr>\n",
       "      <th>1</th>\n",
       "      <td>2</td>\n",
       "      <td>11</td>\n",
       "      <td>1</td>\n",
       "      <td>66</td>\n",
       "      <td>36</td>\n",
       "      <td>16</td>\n",
       "      <td>78</td>\n",
       "    </tr>\n",
       "    <tr>\n",
       "      <th>2</th>\n",
       "      <td>3</td>\n",
       "      <td>24</td>\n",
       "      <td>7</td>\n",
       "      <td>2016</td>\n",
       "      <td>315</td>\n",
       "      <td>10</td>\n",
       "      <td>455</td>\n",
       "    </tr>\n",
       "    <tr>\n",
       "      <th>3</th>\n",
       "      <td>4</td>\n",
       "      <td>28</td>\n",
       "      <td>7</td>\n",
       "      <td>2352</td>\n",
       "      <td>315</td>\n",
       "      <td>18</td>\n",
       "      <td>826</td>\n",
       "    </tr>\n",
       "    <tr>\n",
       "      <th>4</th>\n",
       "      <td>5</td>\n",
       "      <td>5</td>\n",
       "      <td>1</td>\n",
       "      <td>30</td>\n",
       "      <td>44</td>\n",
       "      <td>17</td>\n",
       "      <td>119</td>\n",
       "    </tr>\n",
       "  </tbody>\n",
       "</table>\n",
       "</div>"
      ],
      "text/plain": [
       "   idx   d  p  profit  expense  baseCt  returnCost\n",
       "0    1  29  4    1044      216      19          88\n",
       "1    2  11  1      66       36      16          78\n",
       "2    3  24  7    2016      315      10         455\n",
       "3    4  28  7    2352      315      18         826\n",
       "4    5   5  1      30       44      17         119"
      ]
     },
     "execution_count": 39,
     "metadata": {},
     "output_type": "execute_result"
    }
   ],
   "source": [
    "df.head()"
   ]
  },
  {
   "cell_type": "code",
   "execution_count": 40,
   "metadata": {},
   "outputs": [
    {
     "data": {
      "text/plain": [
       "(2378, 7)"
      ]
     },
     "execution_count": 40,
     "metadata": {},
     "output_type": "execute_result"
    }
   ],
   "source": [
    "df[df['profit'] < df['expense']].shape"
   ]
  },
  {
   "cell_type": "code",
   "execution_count": 41,
   "metadata": {},
   "outputs": [],
   "source": [
    "df['totalExpense'] = df['expense'] + df['p'] * 240 / df['baseCt'] + df['returnCost'] / df['baseCt']"
   ]
  },
  {
   "cell_type": "code",
   "execution_count": 42,
   "metadata": {},
   "outputs": [
    {
     "data": {
      "text/html": [
       "<div>\n",
       "<style scoped>\n",
       "    .dataframe tbody tr th:only-of-type {\n",
       "        vertical-align: middle;\n",
       "    }\n",
       "\n",
       "    .dataframe tbody tr th {\n",
       "        vertical-align: top;\n",
       "    }\n",
       "\n",
       "    .dataframe thead th {\n",
       "        text-align: right;\n",
       "    }\n",
       "</style>\n",
       "<table border=\"1\" class=\"dataframe\">\n",
       "  <thead>\n",
       "    <tr style=\"text-align: right;\">\n",
       "      <th></th>\n",
       "      <th>idx</th>\n",
       "      <th>d</th>\n",
       "      <th>p</th>\n",
       "      <th>profit</th>\n",
       "      <th>expense</th>\n",
       "      <th>baseCt</th>\n",
       "      <th>returnCost</th>\n",
       "      <th>totalExpense</th>\n",
       "    </tr>\n",
       "  </thead>\n",
       "  <tbody>\n",
       "    <tr>\n",
       "      <th>0</th>\n",
       "      <td>1</td>\n",
       "      <td>29</td>\n",
       "      <td>4</td>\n",
       "      <td>1044</td>\n",
       "      <td>216</td>\n",
       "      <td>19</td>\n",
       "      <td>88</td>\n",
       "      <td>271.157895</td>\n",
       "    </tr>\n",
       "    <tr>\n",
       "      <th>1</th>\n",
       "      <td>2</td>\n",
       "      <td>11</td>\n",
       "      <td>1</td>\n",
       "      <td>66</td>\n",
       "      <td>36</td>\n",
       "      <td>16</td>\n",
       "      <td>78</td>\n",
       "      <td>55.875000</td>\n",
       "    </tr>\n",
       "    <tr>\n",
       "      <th>2</th>\n",
       "      <td>3</td>\n",
       "      <td>24</td>\n",
       "      <td>7</td>\n",
       "      <td>2016</td>\n",
       "      <td>315</td>\n",
       "      <td>10</td>\n",
       "      <td>455</td>\n",
       "      <td>528.500000</td>\n",
       "    </tr>\n",
       "    <tr>\n",
       "      <th>3</th>\n",
       "      <td>4</td>\n",
       "      <td>28</td>\n",
       "      <td>7</td>\n",
       "      <td>2352</td>\n",
       "      <td>315</td>\n",
       "      <td>18</td>\n",
       "      <td>826</td>\n",
       "      <td>454.222222</td>\n",
       "    </tr>\n",
       "    <tr>\n",
       "      <th>4</th>\n",
       "      <td>5</td>\n",
       "      <td>5</td>\n",
       "      <td>1</td>\n",
       "      <td>30</td>\n",
       "      <td>44</td>\n",
       "      <td>17</td>\n",
       "      <td>119</td>\n",
       "      <td>65.117647</td>\n",
       "    </tr>\n",
       "  </tbody>\n",
       "</table>\n",
       "</div>"
      ],
      "text/plain": [
       "   idx   d  p  profit  expense  baseCt  returnCost  totalExpense\n",
       "0    1  29  4    1044      216      19          88    271.157895\n",
       "1    2  11  1      66       36      16          78     55.875000\n",
       "2    3  24  7    2016      315      10         455    528.500000\n",
       "3    4  28  7    2352      315      18         826    454.222222\n",
       "4    5   5  1      30       44      17         119     65.117647"
      ]
     },
     "execution_count": 42,
     "metadata": {},
     "output_type": "execute_result"
    }
   ],
   "source": [
    "df.head()"
   ]
  },
  {
   "cell_type": "code",
   "execution_count": 43,
   "metadata": {},
   "outputs": [
    {
     "data": {
      "text/plain": [
       "51600428.99999999"
      ]
     },
     "execution_count": 43,
     "metadata": {},
     "output_type": "execute_result"
    }
   ],
   "source": [
    "(df['profit'] - df['totalExpense']).sum()"
   ]
  },
  {
   "cell_type": "code",
   "execution_count": 44,
   "metadata": {},
   "outputs": [
    {
     "data": {
      "text/plain": [
       "(9413, 8)"
      ]
     },
     "execution_count": 44,
     "metadata": {},
     "output_type": "execute_result"
    }
   ],
   "source": [
    "df[df['profit'] < df['totalExpense']].shape"
   ]
  },
  {
   "cell_type": "code",
   "execution_count": 50,
   "metadata": {},
   "outputs": [],
   "source": [
    "waste = df[df['profit'] < df['totalExpense']].copy()"
   ]
  },
  {
   "cell_type": "code",
   "execution_count": 51,
   "metadata": {},
   "outputs": [
    {
     "data": {
      "text/plain": [
       "-1073031.6039091605"
      ]
     },
     "execution_count": 51,
     "metadata": {},
     "output_type": "execute_result"
    }
   ],
   "source": [
    "(waste['profit'] - waste['totalExpense']).sum()"
   ]
  },
  {
   "cell_type": "code",
   "execution_count": 52,
   "metadata": {},
   "outputs": [],
   "source": [
    "waste['loss'] = waste['totalExpense'] - waste['profit']"
   ]
  },
  {
   "cell_type": "code",
   "execution_count": 54,
   "metadata": {},
   "outputs": [
    {
     "data": {
      "text/html": [
       "<div>\n",
       "<style scoped>\n",
       "    .dataframe tbody tr th:only-of-type {\n",
       "        vertical-align: middle;\n",
       "    }\n",
       "\n",
       "    .dataframe tbody tr th {\n",
       "        vertical-align: top;\n",
       "    }\n",
       "\n",
       "    .dataframe thead th {\n",
       "        text-align: right;\n",
       "    }\n",
       "</style>\n",
       "<table border=\"1\" class=\"dataframe\">\n",
       "  <thead>\n",
       "    <tr style=\"text-align: right;\">\n",
       "      <th></th>\n",
       "      <th>idx</th>\n",
       "      <th>d</th>\n",
       "      <th>p</th>\n",
       "      <th>profit</th>\n",
       "      <th>expense</th>\n",
       "      <th>baseCt</th>\n",
       "      <th>returnCost</th>\n",
       "      <th>totalExpense</th>\n",
       "      <th>loss</th>\n",
       "    </tr>\n",
       "  </thead>\n",
       "  <tbody>\n",
       "    <tr>\n",
       "      <th>99565</th>\n",
       "      <td>98</td>\n",
       "      <td>16</td>\n",
       "      <td>6</td>\n",
       "      <td>1056</td>\n",
       "      <td>828</td>\n",
       "      <td>1</td>\n",
       "      <td>732</td>\n",
       "      <td>3000.0</td>\n",
       "      <td>1944.0</td>\n",
       "    </tr>\n",
       "    <tr>\n",
       "      <th>58022</th>\n",
       "      <td>231</td>\n",
       "      <td>11</td>\n",
       "      <td>7</td>\n",
       "      <td>924</td>\n",
       "      <td>819</td>\n",
       "      <td>1</td>\n",
       "      <td>742</td>\n",
       "      <td>3241.0</td>\n",
       "      <td>2317.0</td>\n",
       "    </tr>\n",
       "    <tr>\n",
       "      <th>16149</th>\n",
       "      <td>181</td>\n",
       "      <td>9</td>\n",
       "      <td>6</td>\n",
       "      <td>594</td>\n",
       "      <td>768</td>\n",
       "      <td>1</td>\n",
       "      <td>714</td>\n",
       "      <td>2922.0</td>\n",
       "      <td>2328.0</td>\n",
       "    </tr>\n",
       "    <tr>\n",
       "      <th>72533</th>\n",
       "      <td>560</td>\n",
       "      <td>17</td>\n",
       "      <td>6</td>\n",
       "      <td>1122</td>\n",
       "      <td>1110</td>\n",
       "      <td>1</td>\n",
       "      <td>1008</td>\n",
       "      <td>3558.0</td>\n",
       "      <td>2436.0</td>\n",
       "    </tr>\n",
       "    <tr>\n",
       "      <th>83116</th>\n",
       "      <td>340</td>\n",
       "      <td>13</td>\n",
       "      <td>6</td>\n",
       "      <td>858</td>\n",
       "      <td>1074</td>\n",
       "      <td>1</td>\n",
       "      <td>996</td>\n",
       "      <td>3510.0</td>\n",
       "      <td>2652.0</td>\n",
       "    </tr>\n",
       "  </tbody>\n",
       "</table>\n",
       "</div>"
      ],
      "text/plain": [
       "       idx   d  p  profit  expense  baseCt  returnCost  totalExpense    loss\n",
       "99565   98  16  6    1056      828       1         732        3000.0  1944.0\n",
       "58022  231  11  7     924      819       1         742        3241.0  2317.0\n",
       "16149  181   9  6     594      768       1         714        2922.0  2328.0\n",
       "72533  560  17  6    1122     1110       1        1008        3558.0  2436.0\n",
       "83116  340  13  6     858     1074       1         996        3510.0  2652.0"
      ]
     },
     "execution_count": 54,
     "metadata": {},
     "output_type": "execute_result"
    }
   ],
   "source": [
    "waste.sort_values('loss').tail()"
   ]
  },
  {
   "cell_type": "code",
   "execution_count": 56,
   "metadata": {},
   "outputs": [
    {
     "data": {
      "text/plain": [
       "baseCt\n",
       "1     430351.000000\n",
       "2     128417.500000\n",
       "3      68172.666667\n",
       "4      47688.000000\n",
       "5      32891.400000\n",
       "6      24285.000000\n",
       "7      15517.714286\n",
       "8      18316.250000\n",
       "9      15616.333333\n",
       "10     15175.900000\n",
       "11     18515.363636\n",
       "12     17028.166667\n",
       "13     16891.384615\n",
       "14     18448.857143\n",
       "15     21179.800000\n",
       "16     23718.312500\n",
       "17     25977.000000\n",
       "18     22886.611111\n",
       "19     25385.263158\n",
       "20     20051.550000\n",
       "21     22207.761905\n",
       "22     17785.818182\n",
       "23     12629.043478\n",
       "24      7226.333333\n",
       "25      3415.080000\n",
       "26      1855.192308\n",
       "27      1189.444444\n",
       "28       208.857143\n",
       "Name: loss, dtype: float64"
      ]
     },
     "execution_count": 56,
     "metadata": {},
     "output_type": "execute_result"
    }
   ],
   "source": [
    "waste.groupby('baseCt')['loss'].sum()"
   ]
  },
  {
   "cell_type": "code",
   "execution_count": 57,
   "metadata": {},
   "outputs": [
    {
     "data": {
      "text/plain": [
       "p\n",
       "1    111695.970153\n",
       "2    148689.049966\n",
       "3    174258.566236\n",
       "4    168193.547948\n",
       "5    186161.335388\n",
       "6    147102.575085\n",
       "7    136930.559134\n",
       "Name: loss, dtype: float64"
      ]
     },
     "execution_count": 57,
     "metadata": {},
     "output_type": "execute_result"
    }
   ],
   "source": [
    "waste.groupby('p')['loss'].sum()"
   ]
  },
  {
   "cell_type": "code",
   "execution_count": 58,
   "metadata": {},
   "outputs": [
    {
     "data": {
      "text/plain": [
       "d\n",
       "5     104864.422407\n",
       "6      74911.939697\n",
       "7      50174.184746\n",
       "8      43425.324405\n",
       "9      37987.945640\n",
       "10     32479.662289\n",
       "11     29090.691141\n",
       "12     28194.613932\n",
       "13     23412.571898\n",
       "14     21716.619263\n",
       "15     13573.561688\n",
       "16     26569.796005\n",
       "17     23340.956859\n",
       "18     25697.685328\n",
       "19     29463.631423\n",
       "20     29633.904648\n",
       "21     31115.875065\n",
       "22     36033.111500\n",
       "23     36774.574799\n",
       "24     34305.033333\n",
       "25     50035.603832\n",
       "26     40855.754941\n",
       "27     62867.217312\n",
       "28     67314.117230\n",
       "29     49190.995798\n",
       "30     70001.808730\n",
       "Name: loss, dtype: float64"
      ]
     },
     "execution_count": 58,
     "metadata": {},
     "output_type": "execute_result"
    }
   ],
   "source": [
    "waste.groupby('d')['loss'].sum()"
   ]
  },
  {
   "cell_type": "code",
   "execution_count": null,
   "metadata": {},
   "outputs": [],
   "source": []
  }
 ],
 "metadata": {
  "kernelspec": {
   "display_name": "Python 3",
   "language": "python",
   "name": "python3"
  },
  "language_info": {
   "codemirror_mode": {
    "name": "ipython",
    "version": 3
   },
   "file_extension": ".py",
   "mimetype": "text/x-python",
   "name": "python",
   "nbconvert_exporter": "python",
   "pygments_lexer": "ipython3",
   "version": "3.7.3"
  }
 },
 "nbformat": 4,
 "nbformat_minor": 2
}
